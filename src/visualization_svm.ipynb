{
 "cells": [
  {
   "cell_type": "code",
   "execution_count": null,
   "metadata": {},
   "outputs": [],
   "source": [
    "#https://www.kaggle.com/code/rajeev102001/svm-support-vector-machine-for-classification\n",
    "#https://www.kaggle.com/code/faressayah/support-vector-machine-pca-tutorial-for-beginner\n",
    "#https://github.com/JeromeViator/ML-with-Python/blob/master/Support-Vector-Machines.ipynb\n",
    "#https://colab.research.google.com/github/jakevdp/PythonDataScienceHandbook/blob/master/notebooks/05.07-Support-Vector-Machines.ipynb\n",
    "#https://github.com/h3ndrk/support-vector-machine/blob/master/examples/Support%20Vector%20Machine.ipynb\n",
    "#https://github.com/gunjanvi/Support-Vector-Machine/blob/master/SVM.ipynb\n",
    "#https://colab.research.google.com/github/goodboychan/goodboychan.github.io/blob/main/_notebooks/2020-07-06-02-Support-Vector-Machines.ipynb\n",
    "#https://colab.research.google.com/github/machine-learning-apps/hands-on-ml2/blob/master/_notebooks/05_support_vector_machines.ipynb\n",
    "#https://gist.github.com/pb111/ca4680d8960c46aeb1b824a93a079fa7\n",
    "#https://github.com/midtown-ai/notebooks/blob/main/support_vector_machine.ipynb\n",
    "#https://www.kaggle.com/code/prashant111/svm-classifier-tutorial"
   ]
  },
  {
   "cell_type": "code",
   "execution_count": null,
   "metadata": {},
   "outputs": [],
   "source": [
    "from misc_svm import *\n",
    "#%matplotlib.inline"
   ]
  },
  {
   "cell_type": "code",
   "execution_count": null,
   "metadata": {},
   "outputs": [],
   "source": [
    "data_frame_train = \"train_pca.csv\"\n",
    "data_frame_test = \"valid_pca.csv\"\n",
    "#Diagonal_boundingbox"
   ]
  },
  {
   "cell_type": "code",
   "execution_count": null,
   "metadata": {},
   "outputs": [],
   "source": [
    "df_train = load_csv(data_frame_train )\n",
    "#df_train.head()"
   ]
  },
  {
   "cell_type": "code",
   "execution_count": null,
   "metadata": {},
   "outputs": [],
   "source": [
    "df_test = load_csv(data_frame_test)\n",
    "#df_test.head()"
   ]
  },
  {
   "cell_type": "code",
   "execution_count": null,
   "metadata": {},
   "outputs": [],
   "source": [
    "Y_train = df_train[\"label\"]\n",
    "Y_train"
   ]
  },
  {
   "cell_type": "code",
   "execution_count": null,
   "metadata": {},
   "outputs": [],
   "source": [
    "Y_test = df_test[\"label\"]\n",
    "Y_test"
   ]
  },
  {
   "cell_type": "code",
   "execution_count": null,
   "metadata": {},
   "outputs": [],
   "source": [
    "X_train = independent_variable(df_train, 'label', axis = 1)\n",
    "X_train"
   ]
  },
  {
   "cell_type": "code",
   "execution_count": null,
   "metadata": {},
   "outputs": [],
   "source": [
    "X_test = independent_variable(df_test, 'label', axis = 1)\n",
    "X_test"
   ]
  },
  {
   "cell_type": "code",
   "execution_count": null,
   "metadata": {},
   "outputs": [],
   "source": [
    "svm_create = create_svm(kernel = \"rbf\", gamma = 0.01, C = 10)"
   ]
  },
  {
   "cell_type": "code",
   "execution_count": null,
   "metadata": {},
   "outputs": [],
   "source": [
    "svm_fit = fit_svm(svm_create, X_train, Y_train)"
   ]
  },
  {
   "cell_type": "code",
   "execution_count": null,
   "metadata": {},
   "outputs": [],
   "source": [
    "pred_y = pred(svm_fit, X_test)\n",
    "pred_y"
   ]
  },
  {
   "cell_type": "code",
   "execution_count": null,
   "metadata": {},
   "outputs": [],
   "source": [
    "pred_train = pred(svm_fit, X_train)\n",
    "pred_train"
   ]
  },
  {
   "cell_type": "code",
   "execution_count": null,
   "metadata": {},
   "outputs": [],
   "source": [
    "accur_score = accuracy_scoring(pred_y, Y_test)\n",
    "print(accur_score)"
   ]
  },
  {
   "cell_type": "code",
   "execution_count": null,
   "metadata": {},
   "outputs": [],
   "source": [
    "accur_score_train = accuracy_scoring(pred_train, Y_train)\n",
    "accur_score_train"
   ]
  },
  {
   "cell_type": "code",
   "execution_count": null,
   "metadata": {},
   "outputs": [],
   "source": [
    "confusion_matrixes(pred_y, Y_test, cmap = \"cividis\", annot = True, fmt = 'd', textsize=14)"
   ]
  },
  {
   "cell_type": "code",
   "execution_count": null,
   "metadata": {},
   "outputs": [],
   "source": [
    "confusion_train = confusion_matrixes(pred_train, Y_train, cmap = \"cividis\", annot=True, fmt = 'd', textsize = 14)\n",
    "confusion_train"
   ]
  },
  {
   "cell_type": "code",
   "execution_count": null,
   "metadata": {},
   "outputs": [],
   "source": [
    "rep1 = create_classification_report(pred_y, Y_test)\n",
    "print(rep1)"
   ]
  },
  {
   "cell_type": "code",
   "execution_count": null,
   "metadata": {},
   "outputs": [],
   "source": [
    "rep_train = create_classification_report(pred_train, Y_train)\n",
    "print(rep_train)"
   ]
  },
  {
   "cell_type": "code",
   "execution_count": null,
   "metadata": {},
   "outputs": [],
   "source": [
    "visualize_decision_boundaries(svm_create, X_train, Y_train)"
   ]
  },
  {
   "cell_type": "code",
   "execution_count": null,
   "metadata": {},
   "outputs": [],
   "source": [
    "visualize_decision_boundaries(svm_create, X_test, Y_test)"
   ]
  },
  {
   "cell_type": "code",
   "execution_count": null,
   "metadata": {},
   "outputs": [],
   "source": [
    "plot_roc_curve(Y_test, pred_y, 7)"
   ]
  },
  {
   "cell_type": "code",
   "execution_count": null,
   "metadata": {},
   "outputs": [],
   "source": [
    "plot_roc_curve(Y_train, pred_train, 7)"
   ]
  },
  {
   "cell_type": "code",
   "execution_count": null,
   "metadata": {},
   "outputs": [],
   "source": [
    "optimal_gamma_c_heatmap(X_train, X_test, Y_train, Y_test, svm_create)"
   ]
  },
  {
   "cell_type": "code",
   "execution_count": null,
   "metadata": {},
   "outputs": [],
   "source": [
    "optimal_gamma_c_line(X_train, X_test, Y_train, Y_test, svm_create)"
   ]
  },
  {
   "cell_type": "code",
   "execution_count": null,
   "metadata": {},
   "outputs": [],
   "source": [
    "perform_kfold_cross_validation(X_train, Y_train, svm_create, n_splits=10)"
   ]
  },
  {
   "cell_type": "code",
   "execution_count": null,
   "metadata": {},
   "outputs": [],
   "source": [
    "kernels_name = ['rbf', 'poly', 'linear', 'sigmoid']\n",
    "\n",
    "plot_kernel_performance(X_train, Y_train, kernels_name)"
   ]
  }
 ],
 "metadata": {
  "kernelspec": {
   "display_name": "pytorch_imp",
   "language": "python",
   "name": "python3"
  },
  "language_info": {
   "codemirror_mode": {
    "name": "ipython",
    "version": 3
   },
   "file_extension": ".py",
   "mimetype": "text/x-python",
   "name": "python",
   "nbconvert_exporter": "python",
   "pygments_lexer": "ipython3",
   "version": "3.10.0"
  }
 },
 "nbformat": 4,
 "nbformat_minor": 2
}
